{
 "cells": [
  {
   "cell_type": "code",
   "execution_count": 1,
   "metadata": {},
   "outputs": [
    {
     "name": "stdout",
     "output_type": "stream",
     "text": [
      "Hi, my name is Filipe\n"
     ]
    }
   ],
   "source": [
    "#WEEK 1 Review INTRO TO PYTHON\n",
    "#Assigning variables\n",
    "name = \"Filipe\"\n",
    "print(\"Hi, my name is\",name)"
   ]
  },
  {
   "cell_type": "code",
   "execution_count": 2,
   "metadata": {},
   "outputs": [
    {
     "data": {
      "text/plain": [
       "str"
      ]
     },
     "execution_count": 2,
     "metadata": {},
     "output_type": "execute_result"
    }
   ],
   "source": [
    "# Classifying variable\n",
    "type(name)"
   ]
  },
  {
   "cell_type": "code",
   "execution_count": 3,
   "metadata": {},
   "outputs": [
    {
     "name": "stdout",
     "output_type": "stream",
     "text": [
      "23\n",
      "23.0\n",
      "23\n"
     ]
    }
   ],
   "source": [
    "# Changing variables from string to float to int\n",
    "x = \"23\"\n",
    "print(x)\n",
    "\n",
    "x = float(x)\n",
    "print(x)\n",
    "\n",
    "x = int(x)\n",
    "print(x)"
   ]
  },
  {
   "cell_type": "code",
   "execution_count": 4,
   "metadata": {},
   "outputs": [
    {
     "name": "stdout",
     "output_type": "stream",
     "text": [
      "What's UpRick\n",
      "What's Up Rick\n",
      "How are you, Rick?\n"
     ]
    }
   ],
   "source": [
    "# Concatenation of strings\n",
    "str1 = \"What's Up\"\n",
    "str2 = \"Rick\"\n",
    "print(str1 + str2)\n",
    "#insert space\n",
    "print(str1 + \" \" + str2)\n",
    "print(\"How are you, %s\" % str2 + \"?\")"
   ]
  },
  {
   "cell_type": "code",
   "execution_count": 5,
   "metadata": {},
   "outputs": [
    {
     "name": "stdout",
     "output_type": "stream",
     "text": [
      "soccer\n",
      "basketball\n",
      "['soccer', 'basketball']\n",
      "['football', 'baseball']\n",
      "['soccer', 'basketball', 'football', 'baseball', 'hockey']\n",
      "['soccer', 'basketball', 'football', 'MMA', 'baseball', 'hockey']\n",
      "['soccer', 'basketball', 'MMA', 'boxing']\n",
      "['boxing', 'MMA', 'basketball', 'soccer']\n"
     ]
    }
   ],
   "source": [
    "# Creating a list and manipulating the contents\n",
    "list = [\"soccer\", \"basketball\", \"football\", \"baseball\"]\n",
    "print(list[0])\n",
    "print(list[-3])\n",
    "x = list[0:2]\n",
    "y = list[2:]\n",
    "print(x)\n",
    "print(y)\n",
    "list.append(\"hockey\")\n",
    "print(list)\n",
    "\n",
    "list.insert(3, \"MMA\")\n",
    "print(list)\n",
    "\n",
    "list.remove(\"baseball\")\n",
    "del list[2]\n",
    "list[3] = \"boxing\"\n",
    "print(list)\n",
    "\n",
    "list.reverse()\n",
    "print(list)"
   ]
  },
  {
   "cell_type": "code",
   "execution_count": 6,
   "metadata": {},
   "outputs": [
    {
     "data": {
      "text/plain": [
       "True"
      ]
     },
     "execution_count": 6,
     "metadata": {},
     "output_type": "execute_result"
    }
   ],
   "source": [
    "\"boxing\" in list"
   ]
  },
  {
   "cell_type": "code",
   "execution_count": 7,
   "metadata": {},
   "outputs": [
    {
     "data": {
      "text/plain": [
       "False"
      ]
     },
     "execution_count": 7,
     "metadata": {},
     "output_type": "execute_result"
    }
   ],
   "source": [
    "\"football\" in list"
   ]
  },
  {
   "cell_type": "code",
   "execution_count": 8,
   "metadata": {},
   "outputs": [
    {
     "data": {
      "text/plain": [
       "4"
      ]
     },
     "execution_count": 8,
     "metadata": {},
     "output_type": "execute_result"
    }
   ],
   "source": [
    "len(list)"
   ]
  },
  {
   "cell_type": "code",
   "execution_count": 9,
   "metadata": {},
   "outputs": [
    {
     "name": "stdout",
     "output_type": "stream",
     "text": [
      "['boxing', 'MMA', 'basketball', 'soccer', 'tennis', 'golf']\n"
     ]
    }
   ],
   "source": [
    "list1 = [\"tennis\", \"golf\"]\n",
    "list.extend(list1)\n",
    "print(list)"
   ]
  },
  {
   "cell_type": "code",
   "execution_count": 10,
   "metadata": {},
   "outputs": [
    {
     "data": {
      "text/plain": [
       "9"
      ]
     },
     "execution_count": 10,
     "metadata": {},
     "output_type": "execute_result"
    }
   ],
   "source": [
    "# Arithmatic\n",
    "x = 3\n",
    "y = 6\n",
    "x + y"
   ]
  },
  {
   "cell_type": "code",
   "execution_count": 11,
   "metadata": {},
   "outputs": [
    {
     "data": {
      "text/plain": [
       "-3"
      ]
     },
     "execution_count": 11,
     "metadata": {},
     "output_type": "execute_result"
    }
   ],
   "source": [
    "x-y"
   ]
  },
  {
   "cell_type": "code",
   "execution_count": 12,
   "metadata": {},
   "outputs": [
    {
     "data": {
      "text/plain": [
       "2"
      ]
     },
     "execution_count": 12,
     "metadata": {},
     "output_type": "execute_result"
    }
   ],
   "source": [
    "35%3"
   ]
  },
  {
   "cell_type": "code",
   "execution_count": 13,
   "metadata": {},
   "outputs": [
    {
     "name": "stdout",
     "output_type": "stream",
     "text": [
      "1.300000\n",
      "2\n"
     ]
    }
   ],
   "source": [
    "print(\"%f\" %(1.3))\n",
    "print(\"%d\" %(2.1))"
   ]
  },
  {
   "cell_type": "code",
   "execution_count": 14,
   "metadata": {},
   "outputs": [
    {
     "data": {
      "text/plain": [
       "17"
      ]
     },
     "execution_count": 14,
     "metadata": {},
     "output_type": "execute_result"
    }
   ],
   "source": [
    "35//2"
   ]
  },
  {
   "cell_type": "code",
   "execution_count": 15,
   "metadata": {},
   "outputs": [
    {
     "name": "stdout",
     "output_type": "stream",
     "text": [
      "100.1\n"
     ]
    },
    {
     "data": {
      "text/plain": [
       "100"
      ]
     },
     "execution_count": 15,
     "metadata": {},
     "output_type": "execute_result"
    }
   ],
   "source": [
    "x = 3\n",
    "y = 6\n",
    "z = (x + y)**2 + (y - x) / 3 + 18.1\n",
    "print(z)\n",
    "round(z)"
   ]
  },
  {
   "cell_type": "code",
   "execution_count": 16,
   "metadata": {},
   "outputs": [
    {
     "data": {
      "text/plain": [
       "False"
      ]
     },
     "execution_count": 16,
     "metadata": {},
     "output_type": "execute_result"
    }
   ],
   "source": [
    "f = 5\n",
    "f == 4"
   ]
  },
  {
   "cell_type": "code",
   "execution_count": 17,
   "metadata": {},
   "outputs": [
    {
     "data": {
      "text/plain": [
       "True"
      ]
     },
     "execution_count": 17,
     "metadata": {},
     "output_type": "execute_result"
    }
   ],
   "source": [
    "f != 4"
   ]
  },
  {
   "cell_type": "code",
   "execution_count": 18,
   "metadata": {},
   "outputs": [
    {
     "name": "stdout",
     "output_type": "stream",
     "text": [
      "(2.142857142857143+0j)\n",
      "2.142857142857143\n"
     ]
    }
   ],
   "source": [
    "e = 3/1.4\n",
    "print(complex(e))\n",
    "print(abs(e))"
   ]
  },
  {
   "cell_type": "code",
   "execution_count": 19,
   "metadata": {},
   "outputs": [
    {
     "name": "stdout",
     "output_type": "stream",
     "text": [
      "4\n",
      "1\n"
     ]
    }
   ],
   "source": [
    "print(pow(2,2))\n",
    "print(pow(2,2,3))"
   ]
  },
  {
   "cell_type": "code",
   "execution_count": 20,
   "metadata": {},
   "outputs": [
    {
     "data": {
      "text/plain": [
       "(30,)"
      ]
     },
     "execution_count": 20,
     "metadata": {},
     "output_type": "execute_result"
    }
   ],
   "source": [
    "# TUPLES\n",
    "30,"
   ]
  },
  {
   "cell_type": "code",
   "execution_count": 21,
   "metadata": {},
   "outputs": [
    {
     "data": {
      "text/plain": [
       "(30, 30, 30)"
      ]
     },
     "execution_count": 21,
     "metadata": {},
     "output_type": "execute_result"
    }
   ],
   "source": [
    "3*(30,)"
   ]
  },
  {
   "cell_type": "code",
   "execution_count": 22,
   "metadata": {},
   "outputs": [
    {
     "name": "stdout",
     "output_type": "stream",
     "text": [
      "(23, 54, 30)\n",
      "('T', 'O', 'O', 'P', 'L', 'E')\n"
     ]
    },
    {
     "data": {
      "text/plain": [
       "2"
      ]
     },
     "execution_count": 22,
     "metadata": {},
     "output_type": "execute_result"
    }
   ],
   "source": [
    "toople = tuple([23,54,30])\n",
    "print(toople)\n",
    "Toople = tuple(\"TOOPLE\")\n",
    "print(Toople)\n",
    "Toople.count(\"O\")"
   ]
  },
  {
   "cell_type": "code",
   "execution_count": 23,
   "metadata": {},
   "outputs": [
    {
     "data": {
      "text/plain": [
       "4"
      ]
     },
     "execution_count": 23,
     "metadata": {},
     "output_type": "execute_result"
    }
   ],
   "source": [
    "Toople.index(\"L\")"
   ]
  },
  {
   "cell_type": "code",
   "execution_count": 24,
   "metadata": {},
   "outputs": [
    {
     "name": "stdout",
     "output_type": "stream",
     "text": [
      "mon\n",
      "tue\n",
      "wed\n",
      "thu\n",
      "fri\n",
      "\tsat\n",
      "\tsun\n"
     ]
    }
   ],
   "source": [
    "# using \\n and \\t\n",
    "Week = \"mon\\ntue\\nwed\\nthu\\nfri\\n\\tsat\\n\\tsun\"\n",
    "print(Week)"
   ]
  },
  {
   "cell_type": "code",
   "execution_count": 25,
   "metadata": {},
   "outputs": [
    {
     "name": "stdout",
     "output_type": "stream",
     "text": [
      "0\n",
      "1\n"
     ]
    }
   ],
   "source": [
    "#if, elif, else, for, while, break, continue\n",
    "for i in range(3):\n",
    "    print(i)\n",
    "    if i>=1:\n",
    "        break"
   ]
  },
  {
   "cell_type": "code",
   "execution_count": 26,
   "metadata": {},
   "outputs": [
    {
     "name": "stdout",
     "output_type": "stream",
     "text": [
      "0\n",
      "1\n",
      "2\n",
      "3\n",
      "4\n",
      "OK\n",
      "OK\n",
      "OK\n"
     ]
    }
   ],
   "source": [
    "for i in range(8):\n",
    "    if i >= 5:\n",
    "        print(\"OK\")\n",
    "        continue\n",
    "    elif i < 5:\n",
    "        print(i)"
   ]
  },
  {
   "cell_type": "code",
   "execution_count": 27,
   "metadata": {},
   "outputs": [
    {
     "name": "stdout",
     "output_type": "stream",
     "text": [
      "OK\n",
      "OK\n",
      "OK\n",
      "OK\n",
      "5\n",
      "6\n",
      "7\n",
      "8\n",
      "HI\n",
      "HI\n",
      "HI\n",
      "HI\n"
     ]
    }
   ],
   "source": [
    "for x in range(12):\n",
    "    x = x + 1\n",
    "    if x < 5:\n",
    "        print(\"OK\")\n",
    "    elif x > 8:\n",
    "        print(\"HI\")\n",
    "    else:\n",
    "        print(x)\n"
   ]
  },
  {
   "cell_type": "code",
   "execution_count": 28,
   "metadata": {},
   "outputs": [
    {
     "name": "stdout",
     "output_type": "stream",
     "text": [
      "yessir\n",
      "a is 1, which is less than b AKA 3\n"
     ]
    }
   ],
   "source": [
    "#Nested if\n",
    "a = 1\n",
    "b = 3\n",
    "if a > b:\n",
    "    print(\"Nope\")\n",
    "elif a < b:\n",
    "    print(\"yessir\")\n",
    "    if a == 1:\n",
    "        print(\"a is 1, which is less than b AKA 3\")\n",
    "    else:\n",
    "        print(\"this isn't getting printed\")\n",
    "else:\n",
    "    print(\"doesn't matter\")"
   ]
  },
  {
   "cell_type": "code",
   "execution_count": 29,
   "metadata": {},
   "outputs": [
    {
     "name": "stdout",
     "output_type": "stream",
     "text": [
      "4\n",
      "5\n",
      "6\n",
      "7\n",
      "8\n",
      "HI\n"
     ]
    }
   ],
   "source": [
    "x = 5\n",
    "while x < 10:\n",
    "    print(x - 1)\n",
    "    x = x + 1\n",
    "print(\"HI\")"
   ]
  },
  {
   "cell_type": "code",
   "execution_count": 30,
   "metadata": {},
   "outputs": [
    {
     "name": "stdout",
     "output_type": "stream",
     "text": [
      "[3, 4, 6]\n",
      "[7, 9, 12]\n",
      "[14, 23, 60]\n"
     ]
    }
   ],
   "source": [
    "# nested lists\n",
    "manylists = [[3,4,6], [7,9,12], [14,23,60]]\n",
    "for list1 in manylists:\n",
    "    print(list1)"
   ]
  },
  {
   "cell_type": "code",
   "execution_count": 31,
   "metadata": {},
   "outputs": [
    {
     "name": "stdout",
     "output_type": "stream",
     "text": [
      "3\n",
      "4\n",
      "6\n",
      "7\n",
      "9\n",
      "12\n",
      "14\n",
      "23\n",
      "60\n"
     ]
    }
   ],
   "source": [
    "for list1 in manylists:\n",
    "    for y in list1:\n",
    "        print(y)"
   ]
  },
  {
   "cell_type": "code",
   "execution_count": 32,
   "metadata": {},
   "outputs": [
    {
     "data": {
      "text/plain": [
       "6"
      ]
     },
     "execution_count": 32,
     "metadata": {},
     "output_type": "execute_result"
    }
   ],
   "source": [
    "aa = [1,2,3,4,5,6]\n",
    "max(aa)"
   ]
  },
  {
   "cell_type": "code",
   "execution_count": 33,
   "metadata": {},
   "outputs": [
    {
     "data": {
      "text/plain": [
       "1"
      ]
     },
     "execution_count": 33,
     "metadata": {},
     "output_type": "execute_result"
    }
   ],
   "source": [
    "min(aa)"
   ]
  },
  {
   "cell_type": "code",
   "execution_count": 34,
   "metadata": {},
   "outputs": [
    {
     "name": "stdout",
     "output_type": "stream",
     "text": [
      "[10, 11, 12, 13, 14, 15, 16, 17, 18]\n"
     ]
    }
   ],
   "source": [
    "# List Comprehensions\n",
    "abc = []\n",
    "for x in range(0,9):\n",
    "    y = x + 10\n",
    "    abc.append(y)\n",
    "print(abc)"
   ]
  },
  {
   "cell_type": "code",
   "execution_count": 35,
   "metadata": {},
   "outputs": [
    {
     "data": {
      "text/plain": [
       "[10, 11, 12, 13, 14, 15, 16, 17, 18]"
      ]
     },
     "execution_count": 35,
     "metadata": {},
     "output_type": "execute_result"
    }
   ],
   "source": [
    "[10 + x for x in range(0,9)]"
   ]
  },
  {
   "cell_type": "code",
   "execution_count": 36,
   "metadata": {},
   "outputs": [
    {
     "data": {
      "text/plain": [
       "[10, 11, 12, 13, 14, 15]"
      ]
     },
     "execution_count": 36,
     "metadata": {},
     "output_type": "execute_result"
    }
   ],
   "source": [
    "[10 + x for x in range(0,9) if x <= 5]"
   ]
  },
  {
   "cell_type": "code",
   "execution_count": 37,
   "metadata": {},
   "outputs": [],
   "source": [
    "# WEEK 2 INTRO TO PANDAS: CREATING A DATABASE\n",
    "import pandas as pd\n",
    "import numpy as np\n",
    "import os"
   ]
  },
  {
   "cell_type": "code",
   "execution_count": 38,
   "metadata": {},
   "outputs": [],
   "source": [
    "%load_ext sql"
   ]
  },
  {
   "cell_type": "code",
   "execution_count": 39,
   "metadata": {},
   "outputs": [],
   "source": [
    "%sql sqlite://"
   ]
  },
  {
   "cell_type": "code",
   "execution_count": 40,
   "metadata": {},
   "outputs": [
    {
     "name": "stdout",
     "output_type": "stream",
     "text": [
      " * sqlite://\n",
      "Done.\n",
      "1 rows affected.\n",
      "1 rows affected.\n",
      "1 rows affected.\n",
      "1 rows affected.\n",
      "1 rows affected.\n"
     ]
    },
    {
     "data": {
      "text/plain": [
       "[]"
      ]
     },
     "execution_count": 40,
     "metadata": {},
     "output_type": "execute_result"
    }
   ],
   "source": [
    "%%sql\n",
    "CREATE TABLE RAPPERS(Name varcahr(50),Origin varchar(50),Label varchar(50),ID);\n",
    "INSERT INTO RAPPERS VALUES(\"Jay-Z\",\"Brooklyn, NY\",\"Roc Nation\",\"1\");\n",
    "INSERT INTO RAPPERS VALUES(\"Eminem\",\"Detroit, MI\",\"Shady Records\",\"2\");\n",
    "INSERT INTO RAPPERS VALUES(\"Kanye West\",\"Chicago, IL\", \"GOOD Music\",\"3\");\n",
    "INSERT INTO RAPPERS VALUES(\"Lupe Fiasco\",\"Chicago, IL\",\"1st and 15th\",\"4\");\n",
    "INSERT INTO RAPPERS VALUES(\"Pusha T\",\"Virginia Beach, VA\",\"GOOD Music\",\"5\");"
   ]
  },
  {
   "cell_type": "code",
   "execution_count": 41,
   "metadata": {},
   "outputs": [
    {
     "name": "stdout",
     "output_type": "stream",
     "text": [
      " * sqlite://\n",
      "Done.\n"
     ]
    },
    {
     "data": {
      "text/html": [
       "<table>\n",
       "    <tr>\n",
       "        <th>Name</th>\n",
       "        <th>Origin</th>\n",
       "        <th>Label</th>\n",
       "        <th>ID</th>\n",
       "    </tr>\n",
       "    <tr>\n",
       "        <td>Jay-Z</td>\n",
       "        <td>Brooklyn, NY</td>\n",
       "        <td>Roc Nation</td>\n",
       "        <td>1</td>\n",
       "    </tr>\n",
       "    <tr>\n",
       "        <td>Eminem</td>\n",
       "        <td>Detroit, MI</td>\n",
       "        <td>Shady Records</td>\n",
       "        <td>2</td>\n",
       "    </tr>\n",
       "    <tr>\n",
       "        <td>Kanye West</td>\n",
       "        <td>Chicago, IL</td>\n",
       "        <td>GOOD Music</td>\n",
       "        <td>3</td>\n",
       "    </tr>\n",
       "    <tr>\n",
       "        <td>Lupe Fiasco</td>\n",
       "        <td>Chicago, IL</td>\n",
       "        <td>1st and 15th</td>\n",
       "        <td>4</td>\n",
       "    </tr>\n",
       "    <tr>\n",
       "        <td>Pusha T</td>\n",
       "        <td>Virginia Beach, VA</td>\n",
       "        <td>GOOD Music</td>\n",
       "        <td>5</td>\n",
       "    </tr>\n",
       "</table>"
      ],
      "text/plain": [
       "[('Jay-Z', 'Brooklyn, NY', 'Roc Nation', '1'),\n",
       " ('Eminem', 'Detroit, MI', 'Shady Records', '2'),\n",
       " ('Kanye West', 'Chicago, IL', 'GOOD Music', '3'),\n",
       " ('Lupe Fiasco', 'Chicago, IL', '1st and 15th', '4'),\n",
       " ('Pusha T', 'Virginia Beach, VA', 'GOOD Music', '5')]"
      ]
     },
     "execution_count": 41,
     "metadata": {},
     "output_type": "execute_result"
    }
   ],
   "source": [
    "%sql SELECT * from RAPPERS;"
   ]
  },
  {
   "cell_type": "code",
   "execution_count": 42,
   "metadata": {},
   "outputs": [
    {
     "name": "stdout",
     "output_type": "stream",
     "text": [
      " * sqlite://\n",
      "Done.\n"
     ]
    },
    {
     "data": {
      "text/html": [
       "<table>\n",
       "    <tr>\n",
       "        <th>Name</th>\n",
       "    </tr>\n",
       "    <tr>\n",
       "        <td>Jay-Z</td>\n",
       "    </tr>\n",
       "    <tr>\n",
       "        <td>Eminem</td>\n",
       "    </tr>\n",
       "    <tr>\n",
       "        <td>Kanye West</td>\n",
       "    </tr>\n",
       "    <tr>\n",
       "        <td>Lupe Fiasco</td>\n",
       "    </tr>\n",
       "    <tr>\n",
       "        <td>Pusha T</td>\n",
       "    </tr>\n",
       "</table>"
      ],
      "text/plain": [
       "[('Jay-Z',), ('Eminem',), ('Kanye West',), ('Lupe Fiasco',), ('Pusha T',)]"
      ]
     },
     "execution_count": 42,
     "metadata": {},
     "output_type": "execute_result"
    }
   ],
   "source": [
    "#Requesting 'Name' Column\n",
    "%sql SELECT Name from RAPPERS"
   ]
  },
  {
   "cell_type": "code",
   "execution_count": 43,
   "metadata": {},
   "outputs": [
    {
     "name": "stdout",
     "output_type": "stream",
     "text": [
      " * sqlite://\n",
      "Done.\n"
     ]
    },
    {
     "data": {
      "text/html": [
       "<table>\n",
       "    <tr>\n",
       "        <th>Name</th>\n",
       "    </tr>\n",
       "    <tr>\n",
       "        <td>Kanye West</td>\n",
       "    </tr>\n",
       "    <tr>\n",
       "        <td>Lupe Fiasco</td>\n",
       "    </tr>\n",
       "</table>"
      ],
      "text/plain": [
       "[('Kanye West',), ('Lupe Fiasco',)]"
      ]
     },
     "execution_count": 43,
     "metadata": {},
     "output_type": "execute_result"
    }
   ],
   "source": [
    "#Requesting Name of those from Chicago using Like command %wildcard\n",
    "%sql SELECT Name from RAPPERS WHERE Origin LIKE 'Chi%';"
   ]
  },
  {
   "cell_type": "code",
   "execution_count": 44,
   "metadata": {},
   "outputs": [
    {
     "name": "stdout",
     "output_type": "stream",
     "text": [
      " * sqlite://\n",
      "1 rows affected.\n"
     ]
    },
    {
     "data": {
      "text/plain": [
       "[]"
      ]
     },
     "execution_count": 44,
     "metadata": {},
     "output_type": "execute_result"
    }
   ],
   "source": [
    "%sql INSERT INTO RAPPERS VALUES('2Pac','New York City','Death Row Records','6');"
   ]
  },
  {
   "cell_type": "code",
   "execution_count": 45,
   "metadata": {},
   "outputs": [
    {
     "name": "stdout",
     "output_type": "stream",
     "text": [
      " * sqlite://\n",
      "Done.\n"
     ]
    },
    {
     "data": {
      "text/html": [
       "<table>\n",
       "    <tr>\n",
       "        <th>Name</th>\n",
       "        <th>Origin</th>\n",
       "        <th>Label</th>\n",
       "        <th>ID</th>\n",
       "    </tr>\n",
       "    <tr>\n",
       "        <td>Jay-Z</td>\n",
       "        <td>Brooklyn, NY</td>\n",
       "        <td>Roc Nation</td>\n",
       "        <td>1</td>\n",
       "    </tr>\n",
       "    <tr>\n",
       "        <td>Eminem</td>\n",
       "        <td>Detroit, MI</td>\n",
       "        <td>Shady Records</td>\n",
       "        <td>2</td>\n",
       "    </tr>\n",
       "    <tr>\n",
       "        <td>Kanye West</td>\n",
       "        <td>Chicago, IL</td>\n",
       "        <td>GOOD Music</td>\n",
       "        <td>3</td>\n",
       "    </tr>\n",
       "    <tr>\n",
       "        <td>Lupe Fiasco</td>\n",
       "        <td>Chicago, IL</td>\n",
       "        <td>1st and 15th</td>\n",
       "        <td>4</td>\n",
       "    </tr>\n",
       "    <tr>\n",
       "        <td>Pusha T</td>\n",
       "        <td>Virginia Beach, VA</td>\n",
       "        <td>GOOD Music</td>\n",
       "        <td>5</td>\n",
       "    </tr>\n",
       "    <tr>\n",
       "        <td>2Pac</td>\n",
       "        <td>New York City</td>\n",
       "        <td>Death Row Records</td>\n",
       "        <td>6</td>\n",
       "    </tr>\n",
       "</table>"
      ],
      "text/plain": [
       "[('Jay-Z', 'Brooklyn, NY', 'Roc Nation', '1'),\n",
       " ('Eminem', 'Detroit, MI', 'Shady Records', '2'),\n",
       " ('Kanye West', 'Chicago, IL', 'GOOD Music', '3'),\n",
       " ('Lupe Fiasco', 'Chicago, IL', '1st and 15th', '4'),\n",
       " ('Pusha T', 'Virginia Beach, VA', 'GOOD Music', '5'),\n",
       " ('2Pac', 'New York City', 'Death Row Records', '6')]"
      ]
     },
     "execution_count": 45,
     "metadata": {},
     "output_type": "execute_result"
    }
   ],
   "source": [
    "%sql SELECT * from RAPPERS;"
   ]
  },
  {
   "cell_type": "code",
   "execution_count": 46,
   "metadata": {},
   "outputs": [
    {
     "data": {
      "text/html": [
       "<div>\n",
       "<style scoped>\n",
       "    .dataframe tbody tr th:only-of-type {\n",
       "        vertical-align: middle;\n",
       "    }\n",
       "\n",
       "    .dataframe tbody tr th {\n",
       "        vertical-align: top;\n",
       "    }\n",
       "\n",
       "    .dataframe thead th {\n",
       "        text-align: right;\n",
       "    }\n",
       "</style>\n",
       "<table border=\"1\" class=\"dataframe\">\n",
       "  <thead>\n",
       "    <tr style=\"text-align: right;\">\n",
       "      <th></th>\n",
       "      <th>Name</th>\n",
       "      <th>Origin</th>\n",
       "      <th>Label</th>\n",
       "      <th>Rank</th>\n",
       "    </tr>\n",
       "  </thead>\n",
       "  <tbody>\n",
       "    <tr>\n",
       "      <th>0</th>\n",
       "      <td>Jay-Z</td>\n",
       "      <td>Brooklyn, NY</td>\n",
       "      <td>Roc Nation</td>\n",
       "      <td>1</td>\n",
       "    </tr>\n",
       "    <tr>\n",
       "      <th>1</th>\n",
       "      <td>Eminem</td>\n",
       "      <td>Detroit, MI</td>\n",
       "      <td>Shady Records</td>\n",
       "      <td>2</td>\n",
       "    </tr>\n",
       "    <tr>\n",
       "      <th>2</th>\n",
       "      <td>Kanye West</td>\n",
       "      <td>Chicago, IL</td>\n",
       "      <td>GOOD Music</td>\n",
       "      <td>3</td>\n",
       "    </tr>\n",
       "    <tr>\n",
       "      <th>3</th>\n",
       "      <td>Lupe Fiasco</td>\n",
       "      <td>Chicago, IL</td>\n",
       "      <td>1st and 15th</td>\n",
       "      <td>4</td>\n",
       "    </tr>\n",
       "    <tr>\n",
       "      <th>4</th>\n",
       "      <td>2Pac</td>\n",
       "      <td>New York City, NY</td>\n",
       "      <td>Death Row Records</td>\n",
       "      <td>5</td>\n",
       "    </tr>\n",
       "    <tr>\n",
       "      <th>5</th>\n",
       "      <td>Pusha T</td>\n",
       "      <td>Virginia Beach, VA</td>\n",
       "      <td>GOOD Music</td>\n",
       "      <td>6</td>\n",
       "    </tr>\n",
       "  </tbody>\n",
       "</table>\n",
       "</div>"
      ],
      "text/plain": [
       "          Name              Origin              Label  Rank\n",
       "0        Jay-Z        Brooklyn, NY         Roc Nation     1\n",
       "1       Eminem         Detroit, MI      Shady Records     2\n",
       "2   Kanye West         Chicago, IL         GOOD Music     3\n",
       "3  Lupe Fiasco         Chicago, IL       1st and 15th     4\n",
       "4         2Pac   New York City, NY  Death Row Records     5\n",
       "5      Pusha T  Virginia Beach, VA         GOOD Music     6"
      ]
     },
     "execution_count": 46,
     "metadata": {},
     "output_type": "execute_result"
    }
   ],
   "source": [
    "## Creating a DATAFRAME\n",
    "rap = {'Name': ['Jay-Z', 'Eminem', 'Kanye West', 'Lupe Fiasco', '2Pac', 'Pusha T'],\n",
    "       'Origin': ['Brooklyn, NY', 'Detroit, MI', 'Chicago, IL', 'Chicago, IL', 'New York City, NY', 'Virginia Beach, VA'],\n",
    "       'Label': ['Roc Nation', 'Shady Records', 'GOOD Music', '1st and 15th', 'Death Row Records', 'GOOD Music'],\n",
    "       'Rank': [1, 2, 3, 4, 5, 6]}\n",
    "df = pd.DataFrame(rap)\n",
    "df"
   ]
  },
  {
   "cell_type": "code",
   "execution_count": 47,
   "metadata": {},
   "outputs": [
    {
     "data": {
      "text/html": [
       "<div>\n",
       "<style scoped>\n",
       "    .dataframe tbody tr th:only-of-type {\n",
       "        vertical-align: middle;\n",
       "    }\n",
       "\n",
       "    .dataframe tbody tr th {\n",
       "        vertical-align: top;\n",
       "    }\n",
       "\n",
       "    .dataframe thead th {\n",
       "        text-align: right;\n",
       "    }\n",
       "</style>\n",
       "<table border=\"1\" class=\"dataframe\">\n",
       "  <thead>\n",
       "    <tr style=\"text-align: right;\">\n",
       "      <th></th>\n",
       "      <th>Name</th>\n",
       "      <th>Origin</th>\n",
       "      <th>Label</th>\n",
       "      <th>Rank</th>\n",
       "    </tr>\n",
       "  </thead>\n",
       "  <tbody>\n",
       "    <tr>\n",
       "      <th>0</th>\n",
       "      <td>Jay-Z</td>\n",
       "      <td>Brooklyn, NY</td>\n",
       "      <td>Roc Nation</td>\n",
       "      <td>1</td>\n",
       "    </tr>\n",
       "    <tr>\n",
       "      <th>1</th>\n",
       "      <td>Eminem</td>\n",
       "      <td>Detroit, MI</td>\n",
       "      <td>Shady Records</td>\n",
       "      <td>2</td>\n",
       "    </tr>\n",
       "  </tbody>\n",
       "</table>\n",
       "</div>"
      ],
      "text/plain": [
       "     Name        Origin          Label  Rank\n",
       "0   Jay-Z  Brooklyn, NY     Roc Nation     1\n",
       "1  Eminem   Detroit, MI  Shady Records     2"
      ]
     },
     "execution_count": 47,
     "metadata": {},
     "output_type": "execute_result"
    }
   ],
   "source": [
    "#Select top 2 rows\n",
    "df.head(2)"
   ]
  },
  {
   "cell_type": "code",
   "execution_count": 48,
   "metadata": {},
   "outputs": [
    {
     "data": {
      "text/html": [
       "<div>\n",
       "<style scoped>\n",
       "    .dataframe tbody tr th:only-of-type {\n",
       "        vertical-align: middle;\n",
       "    }\n",
       "\n",
       "    .dataframe tbody tr th {\n",
       "        vertical-align: top;\n",
       "    }\n",
       "\n",
       "    .dataframe thead th {\n",
       "        text-align: right;\n",
       "    }\n",
       "</style>\n",
       "<table border=\"1\" class=\"dataframe\">\n",
       "  <thead>\n",
       "    <tr style=\"text-align: right;\">\n",
       "      <th></th>\n",
       "      <th>Name</th>\n",
       "      <th>Origin</th>\n",
       "      <th>Label</th>\n",
       "    </tr>\n",
       "    <tr>\n",
       "      <th>Rank</th>\n",
       "      <th></th>\n",
       "      <th></th>\n",
       "      <th></th>\n",
       "    </tr>\n",
       "  </thead>\n",
       "  <tbody>\n",
       "    <tr>\n",
       "      <th>1</th>\n",
       "      <td>Jay-Z</td>\n",
       "      <td>Brooklyn, NY</td>\n",
       "      <td>Roc Nation</td>\n",
       "    </tr>\n",
       "    <tr>\n",
       "      <th>2</th>\n",
       "      <td>Eminem</td>\n",
       "      <td>Detroit, MI</td>\n",
       "      <td>Shady Records</td>\n",
       "    </tr>\n",
       "    <tr>\n",
       "      <th>3</th>\n",
       "      <td>Kanye West</td>\n",
       "      <td>Chicago, IL</td>\n",
       "      <td>GOOD Music</td>\n",
       "    </tr>\n",
       "    <tr>\n",
       "      <th>4</th>\n",
       "      <td>Lupe Fiasco</td>\n",
       "      <td>Chicago, IL</td>\n",
       "      <td>1st and 15th</td>\n",
       "    </tr>\n",
       "    <tr>\n",
       "      <th>5</th>\n",
       "      <td>2Pac</td>\n",
       "      <td>New York City, NY</td>\n",
       "      <td>Death Row Records</td>\n",
       "    </tr>\n",
       "    <tr>\n",
       "      <th>6</th>\n",
       "      <td>Pusha T</td>\n",
       "      <td>Virginia Beach, VA</td>\n",
       "      <td>GOOD Music</td>\n",
       "    </tr>\n",
       "  </tbody>\n",
       "</table>\n",
       "</div>"
      ],
      "text/plain": [
       "             Name              Origin              Label\n",
       "Rank                                                    \n",
       "1           Jay-Z        Brooklyn, NY         Roc Nation\n",
       "2          Eminem         Detroit, MI      Shady Records\n",
       "3      Kanye West         Chicago, IL         GOOD Music\n",
       "4     Lupe Fiasco         Chicago, IL       1st and 15th\n",
       "5            2Pac   New York City, NY  Death Row Records\n",
       "6         Pusha T  Virginia Beach, VA         GOOD Music"
      ]
     },
     "execution_count": 48,
     "metadata": {},
     "output_type": "execute_result"
    }
   ],
   "source": [
    "#Set a column as an index\n",
    "df.set_index('Rank')"
   ]
  },
  {
   "cell_type": "code",
   "execution_count": 49,
   "metadata": {},
   "outputs": [
    {
     "data": {
      "text/plain": [
       "0           Roc Nation\n",
       "1        Shady Records\n",
       "2           GOOD Music\n",
       "3         1st and 15th\n",
       "4    Death Row Records\n",
       "5           GOOD Music\n",
       "Name: Label, dtype: object"
      ]
     },
     "execution_count": 49,
     "metadata": {},
     "output_type": "execute_result"
    }
   ],
   "source": [
    "# Select column\n",
    "df['Label']"
   ]
  },
  {
   "cell_type": "code",
   "execution_count": 50,
   "metadata": {},
   "outputs": [
    {
     "data": {
      "text/html": [
       "<div>\n",
       "<style scoped>\n",
       "    .dataframe tbody tr th:only-of-type {\n",
       "        vertical-align: middle;\n",
       "    }\n",
       "\n",
       "    .dataframe tbody tr th {\n",
       "        vertical-align: top;\n",
       "    }\n",
       "\n",
       "    .dataframe thead th {\n",
       "        text-align: right;\n",
       "    }\n",
       "</style>\n",
       "<table border=\"1\" class=\"dataframe\">\n",
       "  <thead>\n",
       "    <tr style=\"text-align: right;\">\n",
       "      <th></th>\n",
       "      <th>Name</th>\n",
       "      <th>Rank</th>\n",
       "    </tr>\n",
       "  </thead>\n",
       "  <tbody>\n",
       "    <tr>\n",
       "      <th>0</th>\n",
       "      <td>Jay-Z</td>\n",
       "      <td>1</td>\n",
       "    </tr>\n",
       "    <tr>\n",
       "      <th>1</th>\n",
       "      <td>Eminem</td>\n",
       "      <td>2</td>\n",
       "    </tr>\n",
       "    <tr>\n",
       "      <th>2</th>\n",
       "      <td>Kanye West</td>\n",
       "      <td>3</td>\n",
       "    </tr>\n",
       "    <tr>\n",
       "      <th>3</th>\n",
       "      <td>Lupe Fiasco</td>\n",
       "      <td>4</td>\n",
       "    </tr>\n",
       "    <tr>\n",
       "      <th>4</th>\n",
       "      <td>2Pac</td>\n",
       "      <td>5</td>\n",
       "    </tr>\n",
       "    <tr>\n",
       "      <th>5</th>\n",
       "      <td>Pusha T</td>\n",
       "      <td>6</td>\n",
       "    </tr>\n",
       "  </tbody>\n",
       "</table>\n",
       "</div>"
      ],
      "text/plain": [
       "          Name  Rank\n",
       "0        Jay-Z     1\n",
       "1       Eminem     2\n",
       "2   Kanye West     3\n",
       "3  Lupe Fiasco     4\n",
       "4         2Pac     5\n",
       "5      Pusha T     6"
      ]
     },
     "execution_count": 50,
     "metadata": {},
     "output_type": "execute_result"
    }
   ],
   "source": [
    "#Select multiple columns\n",
    "df[['Name', 'Rank']]"
   ]
  },
  {
   "cell_type": "code",
   "execution_count": 51,
   "metadata": {},
   "outputs": [
    {
     "data": {
      "text/html": [
       "<div>\n",
       "<style scoped>\n",
       "    .dataframe tbody tr th:only-of-type {\n",
       "        vertical-align: middle;\n",
       "    }\n",
       "\n",
       "    .dataframe tbody tr th {\n",
       "        vertical-align: top;\n",
       "    }\n",
       "\n",
       "    .dataframe thead th {\n",
       "        text-align: right;\n",
       "    }\n",
       "</style>\n",
       "<table border=\"1\" class=\"dataframe\">\n",
       "  <thead>\n",
       "    <tr style=\"text-align: right;\">\n",
       "      <th></th>\n",
       "      <th>Name</th>\n",
       "      <th>Origin</th>\n",
       "      <th>Label</th>\n",
       "      <th>Rank</th>\n",
       "    </tr>\n",
       "  </thead>\n",
       "  <tbody>\n",
       "    <tr>\n",
       "      <th>2</th>\n",
       "      <td>Kanye West</td>\n",
       "      <td>Chicago, IL</td>\n",
       "      <td>GOOD Music</td>\n",
       "      <td>3</td>\n",
       "    </tr>\n",
       "    <tr>\n",
       "      <th>3</th>\n",
       "      <td>Lupe Fiasco</td>\n",
       "      <td>Chicago, IL</td>\n",
       "      <td>1st and 15th</td>\n",
       "      <td>4</td>\n",
       "    </tr>\n",
       "  </tbody>\n",
       "</table>\n",
       "</div>"
      ],
      "text/plain": [
       "          Name       Origin         Label  Rank\n",
       "2   Kanye West  Chicago, IL    GOOD Music     3\n",
       "3  Lupe Fiasco  Chicago, IL  1st and 15th     4"
      ]
     },
     "execution_count": 51,
     "metadata": {},
     "output_type": "execute_result"
    }
   ],
   "source": [
    "# Selecting rows via slicing\n",
    "df[2:4]"
   ]
  },
  {
   "cell_type": "code",
   "execution_count": 52,
   "metadata": {},
   "outputs": [
    {
     "data": {
      "text/html": [
       "<div>\n",
       "<style scoped>\n",
       "    .dataframe tbody tr th:only-of-type {\n",
       "        vertical-align: middle;\n",
       "    }\n",
       "\n",
       "    .dataframe tbody tr th {\n",
       "        vertical-align: top;\n",
       "    }\n",
       "\n",
       "    .dataframe thead th {\n",
       "        text-align: right;\n",
       "    }\n",
       "</style>\n",
       "<table border=\"1\" class=\"dataframe\">\n",
       "  <thead>\n",
       "    <tr style=\"text-align: right;\">\n",
       "      <th></th>\n",
       "      <th>Name</th>\n",
       "      <th>Origin</th>\n",
       "    </tr>\n",
       "  </thead>\n",
       "  <tbody>\n",
       "    <tr>\n",
       "      <th>1</th>\n",
       "      <td>Eminem</td>\n",
       "      <td>Detroit, MI</td>\n",
       "    </tr>\n",
       "    <tr>\n",
       "      <th>2</th>\n",
       "      <td>Kanye West</td>\n",
       "      <td>Chicago, IL</td>\n",
       "    </tr>\n",
       "    <tr>\n",
       "      <th>3</th>\n",
       "      <td>Lupe Fiasco</td>\n",
       "      <td>Chicago, IL</td>\n",
       "    </tr>\n",
       "  </tbody>\n",
       "</table>\n",
       "</div>"
      ],
      "text/plain": [
       "          Name       Origin\n",
       "1       Eminem  Detroit, MI\n",
       "2   Kanye West  Chicago, IL\n",
       "3  Lupe Fiasco  Chicago, IL"
      ]
     },
     "execution_count": 52,
     "metadata": {},
     "output_type": "execute_result"
    }
   ],
   "source": [
    "#Indexing using .loc to select multiple rows and columns based on title\n",
    "df.loc['1':'3', ['Name', 'Origin']]"
   ]
  },
  {
   "cell_type": "code",
   "execution_count": 53,
   "metadata": {},
   "outputs": [
    {
     "data": {
      "text/plain": [
       "Name             Eminem\n",
       "Origin      Detroit, MI\n",
       "Label     Shady Records\n",
       "Rank                  2\n",
       "Name: 1, dtype: object"
      ]
     },
     "execution_count": 53,
     "metadata": {},
     "output_type": "execute_result"
    }
   ],
   "source": [
    "#Using .iloc to index\n",
    "df.iloc[1]"
   ]
  },
  {
   "cell_type": "code",
   "execution_count": 54,
   "metadata": {},
   "outputs": [
    {
     "data": {
      "text/html": [
       "<div>\n",
       "<style scoped>\n",
       "    .dataframe tbody tr th:only-of-type {\n",
       "        vertical-align: middle;\n",
       "    }\n",
       "\n",
       "    .dataframe tbody tr th {\n",
       "        vertical-align: top;\n",
       "    }\n",
       "\n",
       "    .dataframe thead th {\n",
       "        text-align: right;\n",
       "    }\n",
       "</style>\n",
       "<table border=\"1\" class=\"dataframe\">\n",
       "  <thead>\n",
       "    <tr style=\"text-align: right;\">\n",
       "      <th></th>\n",
       "      <th>Name</th>\n",
       "      <th>Origin</th>\n",
       "    </tr>\n",
       "  </thead>\n",
       "  <tbody>\n",
       "    <tr>\n",
       "      <th>0</th>\n",
       "      <td>Jay-Z</td>\n",
       "      <td>Brooklyn, NY</td>\n",
       "    </tr>\n",
       "    <tr>\n",
       "      <th>1</th>\n",
       "      <td>Eminem</td>\n",
       "      <td>Detroit, MI</td>\n",
       "    </tr>\n",
       "    <tr>\n",
       "      <th>2</th>\n",
       "      <td>Kanye West</td>\n",
       "      <td>Chicago, IL</td>\n",
       "    </tr>\n",
       "  </tbody>\n",
       "</table>\n",
       "</div>"
      ],
      "text/plain": [
       "         Name        Origin\n",
       "0       Jay-Z  Brooklyn, NY\n",
       "1      Eminem   Detroit, MI\n",
       "2  Kanye West   Chicago, IL"
      ]
     },
     "execution_count": 54,
     "metadata": {},
     "output_type": "execute_result"
    }
   ],
   "source": [
    "#Using .iloc to select multiple rows and columns using indices\n",
    "df.iloc[0:3, 0:2]"
   ]
  },
  {
   "cell_type": "code",
   "execution_count": 60,
   "metadata": {},
   "outputs": [
    {
     "data": {
      "text/html": [
       "<div>\n",
       "<style scoped>\n",
       "    .dataframe tbody tr th:only-of-type {\n",
       "        vertical-align: middle;\n",
       "    }\n",
       "\n",
       "    .dataframe tbody tr th {\n",
       "        vertical-align: top;\n",
       "    }\n",
       "\n",
       "    .dataframe thead th {\n",
       "        text-align: right;\n",
       "    }\n",
       "</style>\n",
       "<table border=\"1\" class=\"dataframe\">\n",
       "  <thead>\n",
       "    <tr style=\"text-align: right;\">\n",
       "      <th></th>\n",
       "      <th>Name</th>\n",
       "    </tr>\n",
       "  </thead>\n",
       "  <tbody>\n",
       "    <tr>\n",
       "      <th>0</th>\n",
       "      <td>Jay-Z</td>\n",
       "    </tr>\n",
       "  </tbody>\n",
       "</table>\n",
       "</div>"
      ],
      "text/plain": [
       "    Name\n",
       "0  Jay-Z"
      ]
     },
     "execution_count": 60,
     "metadata": {},
     "output_type": "execute_result"
    }
   ],
   "source": [
    "# Using .iloc to select 1 cell\n",
    "df.iloc[0:1, 0:1]"
   ]
  },
  {
   "cell_type": "code",
   "execution_count": 62,
   "metadata": {},
   "outputs": [
    {
     "data": {
      "text/plain": [
       "2Pac           5\n",
       "Eminem         3\n",
       "Jay-Z          1\n",
       "Kanye West     0\n",
       "Lupe Fiasco    2\n",
       "Pusha T        4\n",
       "dtype: int64"
      ]
     },
     "execution_count": 62,
     "metadata": {},
     "output_type": "execute_result"
    }
   ],
   "source": [
    "alphaorder = pd.Series(range(6), index=['Kanye West', 'Jay-Z', 'Lupe Fiasco', 'Eminem', 'Pusha T', '2Pac'])\n",
    "alphaorder.sort_index()"
   ]
  },
  {
   "cell_type": "code",
   "execution_count": 56,
   "metadata": {},
   "outputs": [
    {
     "name": "stdout",
     "output_type": "stream",
     "text": [
      "         make  price  mpg  repairs  weight  length  foreign\n",
      "0         AMC   4099   22        3    2930     186        0\n",
      "1         AMC   4749   17        3    3350     173        0\n",
      "2         AMC   3799   22        3    2640     168        0\n",
      "3        Audi   9690   17        5    2830     189        1\n",
      "4        Audi   6295   23        3    2070     174        1\n",
      "5         BMW   9735   25        4    2650     177        1\n",
      "6       Buick   4816   20        3    3250     196        0\n",
      "7       Buick   7827   15        4    4080     222        0\n",
      "8       Buick   5788   18        3    3670     218        0\n",
      "9       Buick   4453   26        3    2230     170        0\n",
      "10      Buick   5189   20        3    3280     200        0\n",
      "11      Buick  10372   16        3    3880     207        0\n",
      "12      Buick   4082   19        3    3400     200        0\n",
      "13   Cadillac  11385   14        3    4330     221        0\n",
      "14   Cadillac  14500   14        2    3900     204        0\n",
      "15   Cadillac  15906   21        3    4290     204        0\n",
      "16  Chevrolet   3299   29        3    2110     163        0\n",
      "17  Chevrolet   5705   16        4    3690     212        0\n",
      "18  Chevrolet   4504   22        3    3180     193        0\n",
      "19  Chevrolet   5104   22        2    3220     200        0\n",
      "20  Chevrolet   3667   24        2    2750     179        0\n",
      "21  Chevrolet   3955   19        3    3430     197        0\n",
      "22     Datsun   6229   23        4    2370     170        1\n",
      "23     Datsun   4589   35        5    2020     165        1\n",
      "24     Datsun   5079   24        4    2280     170        1\n",
      "25     Datsun   8129   21        4    2750     184        1\n"
     ]
    }
   ],
   "source": [
    "#Read and print existing CSV file\n",
    "auto = pd.read_csv(r'C:\\Users\\Filipe\\Desktop\\Back To School\\data\\auto.csv')\n",
    "print(auto)"
   ]
  },
  {
   "cell_type": "code",
   "execution_count": 59,
   "metadata": {},
   "outputs": [
    {
     "data": {
      "text/plain": [
       "Buick        7\n",
       "Chevrolet    6\n",
       "Datsun       4\n",
       "Cadillac     3\n",
       "AMC          3\n",
       "Audi         2\n",
       "BMW          1\n",
       "Name: make, dtype: int64"
      ]
     },
     "execution_count": 59,
     "metadata": {},
     "output_type": "execute_result"
    }
   ],
   "source": [
    "#List the number of cars for each 'make'\n",
    "auto.make.value_counts()"
   ]
  },
  {
   "cell_type": "code",
   "execution_count": null,
   "metadata": {},
   "outputs": [],
   "source": []
  }
 ],
 "metadata": {
  "kernelspec": {
   "display_name": "Python 3",
   "language": "python",
   "name": "python3"
  },
  "language_info": {
   "codemirror_mode": {
    "name": "ipython",
    "version": 3
   },
   "file_extension": ".py",
   "mimetype": "text/x-python",
   "name": "python",
   "nbconvert_exporter": "python",
   "pygments_lexer": "ipython3",
   "version": "3.7.6"
  }
 },
 "nbformat": 4,
 "nbformat_minor": 4
}
